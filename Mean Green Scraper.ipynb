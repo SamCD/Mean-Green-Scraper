{
 "cells": [
  {
   "cell_type": "code",
   "execution_count": 1,
   "metadata": {},
   "outputs": [],
   "source": [
    "import requests                # Include HTTP Requests module\n",
    "from bs4 import BeautifulSoup  # Include BS web scraping module\n",
    "import pandas as pd\n",
    "import numpy as np\n",
    "import matplotlib.pyplot as plt\n",
    "import re"
   ]
  },
  {
   "cell_type": "code",
   "execution_count": 2,
   "metadata": {},
   "outputs": [
    {
     "name": "stderr",
     "output_type": "stream",
     "text": [
      "C:\\Users\\scohendevries\\AppData\\Local\\Continuum\\miniconda3\\lib\\site-packages\\urllib3\\connectionpool.py:847: InsecureRequestWarning: Unverified HTTPS request is being made. Adding certificate verification is strongly advised. See: https://urllib3.readthedocs.io/en/latest/advanced-usage.html#ssl-warnings\n",
      "  InsecureRequestWarning)\n"
     ]
    }
   ],
   "source": [
    "gameID = 'loyola-university-chicago/boxscore/4822'\n",
    "url = \"https://meangreensports.com/sports/mens-basketball/stats/2020-21/\" + gameID\n",
    "r = requests.get(url,verify=False)\n",
    "soup = BeautifulSoup(r.text, \"html.parser\")\n",
    "prds = soup.find_all('section', attrs = {'id':'play-by-play'})\n"
   ]
  },
  {
   "cell_type": "code",
   "execution_count": 3,
   "metadata": {},
   "outputs": [],
   "source": [
    "dfRaw = pd.DataFrame()\n",
    "for i in prds:\n",
    "    p = 1\n",
    "    T = '00:20:00'\n",
    "    team = ''\n",
    "    action = ''\n",
    "    plr = ''\n",
    "    for prd in i.find_all('div',id=re.compile(r'period')):\n",
    "        for pos in prd.find_all('tr')[1:]:\n",
    "            t = pos.find('th',attrs={'scope':'row'}).text\n",
    "            if re.search(r'\\d',t):\n",
    "                T = t\n",
    "            a = pos.find(lambda tag: tag.name == 'td' and \n",
    "                                   tag.get('class') == ['text-right','hide-on-medium-down']).text.strip()\n",
    "            h = pos.find(lambda tag: tag.name == 'td' and \n",
    "                                   tag.get('class') == ['hide-on-medium-down']).text.strip()\n",
    "            if len(a)>0:\n",
    "                team = 'A'\n",
    "                action = a\n",
    "            else:\n",
    "                team = 'H'\n",
    "                action = h\n",
    "            try:\n",
    "                plr = action.split(' by ')[1]\n",
    "            except:\n",
    "                print(action)\n",
    "            dfRaw = pd.concat([dfRaw,\n",
    "                              pd.DataFrame([[p,T,team,action,plr]],\n",
    "                                          columns=['Period','Time','Team','ActionRaw','Player'])\n",
    "                              ])\n",
    "        p += 1\n",
    "\n",
    "dfRaw['Action'] = dfRaw.ActionRaw.str.extract('([^a-z]{2,})')"
   ]
  },
  {
   "cell_type": "code",
   "execution_count": 4,
   "metadata": {},
   "outputs": [],
   "source": [
    "def cleanAction(x):\n",
    "    x = re.sub('^\\d+', '', x).lstrip()\n",
    "    x = re.sub('\\d+$', '', x).rstrip()\n",
    "    x = re.sub(' by$', '', x).rstrip()\n",
    "    return x\n",
    "def cleanPeriod(x):\n",
    "    x = int(''.join(filter(str.isdigit, x)))\n",
    "    return x\n",
    "def cleanPlayer(x):\n",
    "    x = x.lstrip().rstrip()\n",
    "    return x\n",
    "def getStarters(df):\n",
    "    nprd = df['Period'].max()\n",
    "\n",
    "    periodStart = pd.to_timedelta('00:00:00')\n",
    "    periodEnd = pd.to_timedelta('00:40:00')\n",
    "    if nprd > 2:\n",
    "        n = nprd - 2\n",
    "        while n > 0:\n",
    "            periodEnd += pd.to_timedelta('00:05:00')\n",
    "            n -= 1\n",
    "    lineups2 = df[df.Action.isin(['SUB IN','SUB OUT'])\n",
    "                 ][['Player','Action','Time','Period','Team']]\n",
    "    \n",
    "    linePV = pd.pivot_table(lineups2,index=['Player','Team'],columns='Action',values='Time',aggfunc=np.min).reset_index()\n",
    "    linePV['SUB IN'] = linePV['SUB IN'].fillna(periodStart)\n",
    "    linePV['SUB OUT'] = linePV['SUB OUT'].fillna(periodEnd)\n",
    "    \n",
    "    starters = linePV[\n",
    "        (\n",
    "            (linePV['SUB OUT'] < linePV['SUB IN'])\n",
    "        )\n",
    "        |\n",
    "        (\n",
    "            (linePV['SUB IN'] == '00:00:00')\n",
    "        )\n",
    "                     ][['Team','Player','SUB OUT','SUB IN']]\n",
    "    return list(starters[starters['Team']=='H']['Player']),list(starters[starters['Team']=='A']['Player'])\n",
    "\n",
    "def getStartersByPeriod(df,p):\n",
    "    periodStart = pd.to_timedelta('00:00:00')\n",
    "    periodEnd = pd.to_timedelta('00:20:00')\n",
    "    if p > 2:\n",
    "        periodEnd = pd.to_timedelta('00:05:00')\n",
    "    lineups2 = df[\n",
    "        df.Action.isin(['SUB IN','SUB OUT'])\n",
    "                 ][['Player','Action','Time','Period','Team']]\n",
    "    lineups2 = lineups2[lineups2['Period']==p]\n",
    "    linePV = pd.pivot_table(lineups2,index=['Player','Team'],columns='Action',values='Time',aggfunc=np.min).reset_index()\n",
    "    linePV['SUB IN'] = linePV['SUB IN'].fillna(periodStart)\n",
    "    linePV['SUB OUT'] = linePV['SUB OUT'].fillna(periodEnd)\n",
    "    \n",
    "    starters = linePV[\n",
    "        (\n",
    "            (linePV['SUB OUT'] < linePV['SUB IN'])\n",
    "        )\n",
    "        |\n",
    "        (\n",
    "            (linePV['SUB IN'] == '00:00:00')\n",
    "        )\n",
    "                     ][['Team','Player','SUB OUT','SUB IN']]\n",
    "    return list(starters[starters['Team']=='H']['Player']),list(starters[starters['Team']=='A']['Player'])\n",
    "\n",
    "def extractParens(s):\n",
    "    pat = '\\(([^)]+)'\n",
    "    if re.search(pat,s):\n",
    "        s = re.findall(pat, s)[0]\n",
    "    else:\n",
    "        s = ''\n",
    "    return s\n",
    "def removeParens(x):\n",
    "    return x.split(\"(\")[0]"
   ]
  },
  {
   "cell_type": "code",
   "execution_count": 5,
   "metadata": {},
   "outputs": [],
   "source": [
    "try:\n",
    "    dfRaw['Duration'] = pd.to_datetime(dfRaw['Time'].astype(str)).diff().dt.total_seconds().div(-60)\n",
    "except:\n",
    "    dfRaw['Duration'] = 0"
   ]
  },
  {
   "cell_type": "code",
   "execution_count": 6,
   "metadata": {},
   "outputs": [],
   "source": [
    "actValMap = {\n",
    "    'MISS LAYUP':0\n",
    "    , 'REBOUND DEF':0\n",
    "    , 'GOOD JUMPER':2\n",
    "    , 'MISS 3PTR':0\n",
    "    , 'REBOUND OFF':0\n",
    "    , 'GOOD 3PTR':3\n",
    "    , 'ASSIST':0\n",
    "    , 'FOUL':0\n",
    "    , 'GOOD LAYUP':2\n",
    "    , 'BLOCK':0\n",
    "    , 'TIMEOUT 30SEC':0\n",
    "    , 'SUB OUT':0\n",
    "    , 'SUB IN':0\n",
    "    , 'TURNOVER':0\n",
    "    , 'STEAL':0\n",
    "    , 'MISS JUMPER':0\n",
    "    , 'TIMEOUT MEDIA':0\n",
    "    , 'REBOUND DEADB':0\n",
    "    , 'GOOD FT':1\n",
    "    , 'GOOD DUNK':2\n",
    "    , 'MISS FT':0\n",
    "}"
   ]
  },
  {
   "cell_type": "code",
   "execution_count": 7,
   "metadata": {},
   "outputs": [],
   "source": [
    "dfRaw['Action'] = dfRaw['Action'].apply(cleanAction)\n",
    "#dfRaw['Period'] = dfRaw['Period'].apply(cleanPeriod)#.apply(int)\n",
    "#dfRaw['Duration'] = df['duration'].apply(int)\n",
    "dfRaw['ActionValue'] = dfRaw['Action'].map(actValMap).map(int,na_action='ignore')\n",
    "    \n",
    "dfRaw['Time'] = pd.to_timedelta('00:'+dfRaw['Time'])\n",
    "dfRaw.loc[dfRaw['Period'] <= 2,'Time'] = pd.to_timedelta('00:20:00') - dfRaw.loc[dfRaw['Period'] <= 2,'Time']\n",
    "dfRaw.loc[dfRaw['Period'] > 2,'Time'] = pd.to_timedelta('00:05:00') - dfRaw.loc[dfRaw['Period'] > 2,'Time']\n",
    "dfRaw.loc[dfRaw['Period'] == 2,'Time'] += pd.to_timedelta('00:20:00')\n",
    "dfRaw.loc[dfRaw['Period'] == 3,'Time'] += pd.to_timedelta('00:25:00')\n",
    "dfRaw.loc[dfRaw['Period'] == 4,'Time'] += pd.to_timedelta('00:30:00')\n",
    "dfRaw.loc[dfRaw['Period'] == 5,'Time'] += pd.to_timedelta('00:35:00')\n",
    "dfRaw.loc[dfRaw['Period'] == 6,'Time'] += pd.to_timedelta('00:40:00')\n",
    "dfRaw.loc[dfRaw['Period'] == 7,'Time'] += pd.to_timedelta('00:45:00')\n",
    "dfRaw.loc[dfRaw['Period'] == 8,'Time'] += pd.to_timedelta('00:50:00')"
   ]
  },
  {
   "cell_type": "code",
   "execution_count": 8,
   "metadata": {},
   "outputs": [],
   "source": [
    "dfRaw['x'] = dfRaw['Player'].apply(extractParens)\n",
    "dfRaw['Player'] = dfRaw['Player'].apply(removeParens)\n",
    "dfRaw['Player'] = dfRaw['Player'].apply(cleanPlayer)\n",
    "#dfRaw['Duration'] = dfRaw['Duration'].apply(int)\n",
    "dfRaw.loc[dfRaw.Duration.isna(),'Duration'] = pd.to_timedelta(dfRaw.loc[dfRaw.Duration.isna(),'Time']).dt.total_seconds()#.div(-60)"
   ]
  },
  {
   "cell_type": "code",
   "execution_count": 9,
   "metadata": {},
   "outputs": [],
   "source": [
    "dfRaw['seqNo'] = dfRaw['Time'].ne(dfRaw['Time'].shift()).cumsum()"
   ]
  },
  {
   "cell_type": "code",
   "execution_count": 10,
   "metadata": {},
   "outputs": [],
   "source": [
    "conditions = [\n",
    "    (dfRaw['ActionValue'] == 1),\n",
    "    (dfRaw['ActionValue'] == 2),\n",
    "    (dfRaw['ActionValue'] == 3),\n",
    "    (dfRaw['Action'].str.contains('miss') & dfRaw['Action'].str.contains('3')),\n",
    "    (dfRaw['Action'].str.contains('miss') & ~dfRaw['Action'].str.contains('3') & ~dfRaw['Action'].str.contains('ft')),\n",
    "    (dfRaw['Action'].str.contains('miss') & ~dfRaw['Action'].str.contains('3') & dfRaw['Action'].str.contains('ft'))\n",
    "]\n",
    "choices = ['FTM', 'FG2', 'FG3','3PA','2PA','FTA']\n",
    "dfRaw['action_edit1'] = np.select(conditions, choices, default=dfRaw['Action'])\n",
    "    \n",
    "dfRaw['playScore'] = dfRaw['Time'].map(dfRaw.groupby(\"Time\")['ActionValue'].sum())"
   ]
  },
  {
   "cell_type": "code",
   "execution_count": 11,
   "metadata": {},
   "outputs": [],
   "source": [
    "def set_pm(df,rosterH,rosterA,debug=False,isHome=True):\n",
    "    HLU,ALU = getStarters(df)\n",
    "\n",
    "    lineupDF = df[df.Action.isin(['SUB IN','SUB OUT'])].copy().reindex(columns=['Time'\n",
    "                                                                                ,'Action'\n",
    "                                                                                ,'Player'\n",
    "                                                                                ,'Team'\n",
    "                                                                                ,'scoreHome'\n",
    "                                                                                ,'scoreAway'\n",
    "                                                                                ,'seqNo'\n",
    "                                                                                ,'Period'\n",
    "                                                                               ])\n",
    "    lineupDF = lineupDF.reset_index()\n",
    "    \n",
    "    #rosterH = [p for p in lineupDF[lineupDF['team']=='Home']['player'].unique()]\n",
    "    #rosterA = [p for p in lineupDF[lineupDF['team']=='Away']['player'].unique()]\n",
    "    \n",
    "    seq = lineupDF.loc[0,'seqNo'].copy()\n",
    "    time = lineupDF.loc[0,'Time']\n",
    "    hSc = lineupDF.loc[0,'scoreHome'].copy()\n",
    "    aSc = lineupDF.loc[0,'scoreAway'].copy()\n",
    "    p = lineupDF.loc[0,'Period'].copy()\n",
    "    diff = hSc-aSc\n",
    "    \n",
    "    away = pd.DataFrame(data={'Lineup':[ALU],'Time':pd.to_timedelta('00:00:00'),'Team':'A','diff':0}).head(1)\n",
    "    home = pd.DataFrame(data={'Lineup':[HLU],'Time':pd.to_timedelta('00:00:00'),'Team':'H','diff':0}).head(1)\n",
    "    \n",
    "    h = home.loc[0,'Lineup'].copy()\n",
    "    h.sort()\n",
    "    a = away.loc[0,'Lineup'].copy()\n",
    "    a.sort()\n",
    "    \n",
    "    hPlayerPM = {'H':{i:{'curDiff':0, 'pm':0, 'curTime':pd.to_timedelta('00:00:00'), 'tmp':0} for i in lineupDF[lineupDF['Team']=='H'].Player.unique()}}\n",
    "    aPlayerPM = {'A':{i:{'curDiff':0, 'pm':0, 'curTime':pd.to_timedelta('00:00:00'), 'tmp':0} for i in lineupDF[lineupDF['Team']=='A'].Player.unique()}}\n",
    "    aPlayerPM.update(hPlayerPM)\n",
    "    playerPM = aPlayerPM\n",
    "    if debug:\n",
    "        print('Home On Floor: ' + str(h))\n",
    "        print('Away On Floor: ' + str(a))\n",
    "    try:\n",
    "        stints = pd.DataFrame(data = {'seqStart':0\n",
    "                                      , 'seqEnd':seq\n",
    "                                      , 'timeStart':pd.to_timedelta('00:00:00')\n",
    "                                      , 'timeEnd':time\n",
    "                                      , 'diffStart':0\n",
    "                                      , 'diffEnd': diff\n",
    "                                      , 'HOF':[[p for p in h]]\n",
    "                                      , 'AOF':[[p for p in a]]\n",
    "                                      , 'HX':[[1 if p in h else 0 for p in rosterH]]\n",
    "                                      , 'AX':[[-1 if p in a else 0 for p in rosterA]]\n",
    "                                      , 'HR':[[i for i in rosterH]]\n",
    "                                      , 'AR':[[i for i in rosterA]]\n",
    "                                      , 'Y':pd.Series((diff)/(seq))\n",
    "                                     })\n",
    "    except:\n",
    "        pd.DataFrame(data = {'seqStart':0\n",
    "                                      , 'seqEnd':seq\n",
    "                                      , 'timeStart':pd.to_timedelta('00:00:00')\n",
    "                                      , 'timeEnd':time\n",
    "                                      , 'diffStart':0\n",
    "                                      , 'diffEnd': diff\n",
    "                                      , 'HOF':[[p for p in h]]\n",
    "                                      , 'AOF':[[p for p in a]]\n",
    "                                      , 'HX':[[1 if p in h else 0 for p in rosterH]]\n",
    "                                      , 'AX':[[-1 if p in a else 0 for p in rosterA]]\n",
    "                                      , 'HR':[[i for i in rosterH]]\n",
    "                                      , 'AR':[[i for i in rosterA]]\n",
    "                            }\n",
    "                    )\n",
    "        return\n",
    "    \n",
    "    hx = [1 if p in h else 0 for p in rosterH]\n",
    "    ax = [1 if p in a else 0 for p in rosterA]\n",
    "    \n",
    "    for i in range(0,len(lineupDF)):\n",
    "        nseq = lineupDF.loc[i,'seqNo'].copy()\n",
    "        ntime = lineupDF.loc[i,'Time']\n",
    "        plyr = lineupDF.loc[i,'Player']\n",
    "        act = lineupDF.loc[i,'Action']\n",
    "        tm = lineupDF.loc[i,'Team']\n",
    "        np = lineupDF.loc[i,'Period']\n",
    "        ndiff = diff.copy()\n",
    "        #print(seq)\n",
    "        #print(nseq)\n",
    "        if np != p:\n",
    "            h,a = getStartersByPeriod(df,np)\n",
    "        if nseq != seq:\n",
    "            hSc = lineupDF.loc[i,'scoreHome'].copy()\n",
    "            aSc = lineupDF.loc[i,'scoreAway'].copy()\n",
    "            ndiff = hSc - aSc\n",
    "            #if tm==\"Away\":\n",
    "            #    ndiff *= -1\n",
    "            if homeSub:\n",
    "                try:\n",
    "                    newH = pd.DataFrame(data={'lineup':[[p for p in h]],'time':time,'team':'H','diff':ndiff},index=[0])\n",
    "                    home = home.append(newH)\n",
    "                    if debug:\n",
    "                        print('Added ' + str(newH.loc[0,'lineup']) + ' to Home lineups')\n",
    "                except ValueError as e:\n",
    "                    if debug:\n",
    "                        print('Couldn''t add ' + str(newH))\n",
    "                        print(e)\n",
    "            if awaySub:\n",
    "                try:\n",
    "                    newA = pd.DataFrame(data={'lineup':[[p for p in a]],'time':time,'team':'A','diff':-1*ndiff},index=[0])#.head(1)\n",
    "                    away = away.append(newA)\n",
    "                    if debug:\n",
    "                        print('Added ' + str(newA.loc[0,'lineup']) + ' to Away lineups')\n",
    "                except ValueError as e:\n",
    "                    if debug:\n",
    "                        print('Couldn''t add ' + str(newA))\n",
    "                        print(e)\n",
    "            hx_cur = []\n",
    "            ax_cur = []\n",
    "            hx_cur = [1 if p in h else 0 for p in rosterH]\n",
    "            ax_cur = [-1 if p in a else 0 for p in rosterA]\n",
    "            newStint = pd.DataFrame(data={'seqStart':seq\n",
    "                                          , 'seqEnd':nseq\n",
    "                                          , 'timeStart':time\n",
    "                                          , 'timeEnd':ntime\n",
    "                                          , 'diffStart':diff\n",
    "                                          , 'diffEnd': ndiff\n",
    "                                          , 'HOF': [[p for p in h]]\n",
    "                                          , 'AOF': [[p for p in a]]\n",
    "                                          , 'HX':[hx_cur]\n",
    "                                          , 'AX':[ax_cur]\n",
    "                                          , 'HR':[rosterH]\n",
    "                                          , 'AR':[rosterA]\n",
    "                                          , 'Y':((ndiff - diff)/(nseq - seq))\n",
    "                                                 }\n",
    "                                           )\n",
    "            stints = stints.append(newStint)\n",
    "            seq = nseq\n",
    "            time = ntime\n",
    "            diff = ndiff\n",
    "        if debug:\n",
    "            print(ntime)\n",
    "            print(tm + ':' + plyr + ' ' + act)\n",
    "        homeSub = False\n",
    "        awaySub = False\n",
    "        if act=='SUB IN':\n",
    "            if tm=='H' and plyr not in h:\n",
    "                h.append(plyr)\n",
    "                homeSub = True\n",
    "                #print('Added ' + lineupDF.loc[i,'player'])\n",
    "            else:\n",
    "                if plyr not in a:\n",
    "                    a.append(plyr)\n",
    "                    awaySub = True\n",
    "                    #print('Added ' + lineupDF.loc[i,'player'])\n",
    "            playerPM[tm][plyr]['curTime']=ntime\n",
    "            playerPM[tm][plyr]['curDiff']=ndiff\n",
    "        if act=='SUB OUT':\n",
    "            if tm=='H':\n",
    "                try:\n",
    "                    h.remove(plyr)\n",
    "                    homeSub = True\n",
    "                    #print('Removed ' + lineupDF.loc[i,'player'])\n",
    "                except Exception as e:\n",
    "                    if debug:\n",
    "                        print('Exception: ' + str(e))\n",
    "            else:\n",
    "                try:\n",
    "                    a.remove(plyr)\n",
    "                    awaySub = True\n",
    "                    #print('Removed ' + lineupDF.loc[i,'player'])\n",
    "                except Exception as e:\n",
    "                    if debug:\n",
    "                        print('Exception :' + str(e))\n",
    "            playerPM[tm][plyr]['pm'] += (ndiff  - playerPM[tm][plyr]['curDiff']) * -1 if awaySub else 1\n",
    "            #print((ndiff - playerPM[tm][plyr]['curDiff']))\n",
    "            timeEntered = playerPM[tm][plyr]['curTime']    \n",
    "            minPlayed = ((ntime - timeEntered).seconds)/60\n",
    "            \n",
    "            playerPM[tm][plyr]['tmp'] += int(minPlayed)\n",
    "            if debug:\n",
    "                print('Time: ',(ntime))\n",
    "                print('Player entered at: ',(playerPM[tm][plyr]['curTime']))\n",
    "                print('Minutes Played: ',(ntime - playerPM[tm][plyr]['curTime']))\n",
    "                print('Current Diff: ', ndiff)\n",
    "                print('H' if homeSub else 'A')\n",
    "                print('Home: ', hSc, 'Away: ', aSc)\n",
    "        h.sort()\n",
    "        a.sort()\n",
    "        if debug:\n",
    "            print('Home On Floor: ' + str(h))\n",
    "            print('Away On Floor: ' + str(a))\n",
    "    return playerPM,stints,home,away\n"
   ]
  },
  {
   "cell_type": "code",
   "execution_count": 12,
   "metadata": {},
   "outputs": [],
   "source": [
    "HSc = dfRaw[dfRaw['Team']=='H'].groupby(['Time'])[['ActionValue']].sum().cumsum().reset_index()\n",
    "HSc.rename(columns={'Time':'Time','ActionValue':'homeScore'})\n",
    "ASc = dfRaw[dfRaw['Team']=='A'].groupby(['Time'])[['ActionValue']].sum().cumsum().reset_index()\n",
    "ASc.rename(columns={'Time':'Time','ActionValue':'awayScore'})\n",
    "\n",
    "dfRaw = dfRaw.merge(HSc,on='Time',how='left').merge(ASc,on='Time',how='left')\n",
    "dfRaw = dfRaw.rename(columns={'ActionValue':'scoreAway','ActionValue_y':'scoreHome','ActionValue_x':'ActionValue'})\n",
    "dfRaw['scoreHome'] = dfRaw['scoreHome'].fillna(method='ffill')\n",
    "dfRaw['scoreAway'] = dfRaw['scoreAway'].fillna(method='ffill')\n",
    "\n",
    "#dfRaw"
   ]
  },
  {
   "cell_type": "code",
   "execution_count": 13,
   "metadata": {},
   "outputs": [],
   "source": [
    "rosterH = list(dfRaw[(dfRaw['Team']=='H') & (dfRaw['Player'] != 'TEAM')].Player.unique())\n",
    "rosterA = list(dfRaw[(dfRaw['Team']=='A') & (dfRaw['Player'] != 'TEAM')].Player.unique())\n",
    "playerPM,stints, home, away = set_pm(dfRaw,rosterH,rosterA\n",
    "                        # ,debug=True\n",
    "                        )"
   ]
  },
  {
   "cell_type": "code",
   "execution_count": 14,
   "metadata": {},
   "outputs": [
    {
     "data": {
      "text/html": [
       "<div>\n",
       "<style scoped>\n",
       "    .dataframe tbody tr th:only-of-type {\n",
       "        vertical-align: middle;\n",
       "    }\n",
       "\n",
       "    .dataframe tbody tr th {\n",
       "        vertical-align: top;\n",
       "    }\n",
       "\n",
       "    .dataframe thead th {\n",
       "        text-align: right;\n",
       "    }\n",
       "</style>\n",
       "<table border=\"1\" class=\"dataframe\">\n",
       "  <thead>\n",
       "    <tr style=\"text-align: right;\">\n",
       "      <th></th>\n",
       "      <th>Plus-Minus</th>\n",
       "      <th>Total Minutes Played</th>\n",
       "    </tr>\n",
       "  </thead>\n",
       "  <tbody>\n",
       "    <tr>\n",
       "      <th>JONES,RUBIN</th>\n",
       "      <td>-2</td>\n",
       "      <td>15</td>\n",
       "    </tr>\n",
       "    <tr>\n",
       "      <th>MCBRIDE,MARDREZ</th>\n",
       "      <td>0</td>\n",
       "      <td>22</td>\n",
       "    </tr>\n",
       "    <tr>\n",
       "      <th>LEWIS II,TERENCE</th>\n",
       "      <td>1</td>\n",
       "      <td>7</td>\n",
       "    </tr>\n",
       "    <tr>\n",
       "      <th>BELL,THOMAS</th>\n",
       "      <td>-6</td>\n",
       "      <td>24</td>\n",
       "    </tr>\n",
       "    <tr>\n",
       "      <th>MURRAY,JJ</th>\n",
       "      <td>2</td>\n",
       "      <td>8</td>\n",
       "    </tr>\n",
       "    <tr>\n",
       "      <th>REESE,JAMES</th>\n",
       "      <td>-12</td>\n",
       "      <td>24</td>\n",
       "    </tr>\n",
       "    <tr>\n",
       "      <th>SIMMONS,ZACHARY</th>\n",
       "      <td>-6</td>\n",
       "      <td>21</td>\n",
       "    </tr>\n",
       "    <tr>\n",
       "      <th>HAMLET,JAVION</th>\n",
       "      <td>-7</td>\n",
       "      <td>19</td>\n",
       "    </tr>\n",
       "  </tbody>\n",
       "</table>\n",
       "</div>"
      ],
      "text/plain": [
       "                 Plus-Minus Total Minutes Played\n",
       "JONES,RUBIN              -2                   15\n",
       "MCBRIDE,MARDREZ           0                   22\n",
       "LEWIS II,TERENCE          1                    7\n",
       "BELL,THOMAS              -6                   24\n",
       "MURRAY,JJ                 2                    8\n",
       "REESE,JAMES             -12                   24\n",
       "SIMMONS,ZACHARY          -6                   21\n",
       "HAMLET,JAVION            -7                   19"
      ]
     },
     "execution_count": 14,
     "metadata": {},
     "output_type": "execute_result"
    }
   ],
   "source": [
    "APM = pd.DataFrame(playerPM['A']).T[['pm','tmp']].rename(columns={'pm':'Plus-Minus','tmp':'Total Minutes Played'})\n",
    "APM"
   ]
  },
  {
   "cell_type": "code",
   "execution_count": 15,
   "metadata": {},
   "outputs": [
    {
     "data": {
      "text/plain": [
       "<matplotlib.collections.PathCollection at 0x2439edb9748>"
      ]
     },
     "execution_count": 15,
     "metadata": {},
     "output_type": "execute_result"
    },
    {
     "data": {
      "image/png": "[encoded data removed]",
      "text/plain": [
       "<Figure size 432x288 with 1 Axes>"
      ]
     },
     "metadata": {
      "needs_background": "light"
     },
     "output_type": "display_data"
    }
   ],
   "source": [
    "plt.scatter(APM['Total Minutes Played']\n",
    "            ,APM['Plus-Minus']\n",
    "           )"
   ]
  },
  {
   "cell_type": "code",
   "execution_count": 16,
   "metadata": {},
   "outputs": [
    {
     "data": {
      "text/html": [
       "<div>\n",
       "<style scoped>\n",
       "    .dataframe tbody tr th:only-of-type {\n",
       "        vertical-align: middle;\n",
       "    }\n",
       "\n",
       "    .dataframe tbody tr th {\n",
       "        vertical-align: top;\n",
       "    }\n",
       "\n",
       "    .dataframe thead th {\n",
       "        text-align: right;\n",
       "    }\n",
       "</style>\n",
       "<table border=\"1\" class=\"dataframe\">\n",
       "  <thead>\n",
       "    <tr style=\"text-align: right;\">\n",
       "      <th></th>\n",
       "      <th>Plus-Minus</th>\n",
       "      <th>Total Minutes Played</th>\n",
       "    </tr>\n",
       "  </thead>\n",
       "  <tbody>\n",
       "    <tr>\n",
       "      <th>CLEMONS,KEITH</th>\n",
       "      <td>3</td>\n",
       "      <td>7</td>\n",
       "    </tr>\n",
       "    <tr>\n",
       "      <th>KENNEDY,MARQUISE</th>\n",
       "      <td>4</td>\n",
       "      <td>20</td>\n",
       "    </tr>\n",
       "    <tr>\n",
       "      <th>NORRIS,BRADEN</th>\n",
       "      <td>4</td>\n",
       "      <td>18</td>\n",
       "    </tr>\n",
       "    <tr>\n",
       "      <th>UGUAK,AHER</th>\n",
       "      <td>4</td>\n",
       "      <td>27</td>\n",
       "    </tr>\n",
       "    <tr>\n",
       "      <th>KAIFES,COOPER</th>\n",
       "      <td>5</td>\n",
       "      <td>13</td>\n",
       "    </tr>\n",
       "    <tr>\n",
       "      <th>WILLIAMSON,LUCAS</th>\n",
       "      <td>5</td>\n",
       "      <td>26</td>\n",
       "    </tr>\n",
       "    <tr>\n",
       "      <th>HALL,TATE</th>\n",
       "      <td>5</td>\n",
       "      <td>18</td>\n",
       "    </tr>\n",
       "    <tr>\n",
       "      <th>WELCH,TOM</th>\n",
       "      <td>3</td>\n",
       "      <td>6</td>\n",
       "    </tr>\n",
       "    <tr>\n",
       "      <th>KRUTWIG,CAMERON</th>\n",
       "      <td>3</td>\n",
       "      <td>20</td>\n",
       "    </tr>\n",
       "  </tbody>\n",
       "</table>\n",
       "</div>"
      ],
      "text/plain": [
       "                 Plus-Minus Total Minutes Played\n",
       "CLEMONS,KEITH             3                    7\n",
       "KENNEDY,MARQUISE          4                   20\n",
       "NORRIS,BRADEN             4                   18\n",
       "UGUAK,AHER                4                   27\n",
       "KAIFES,COOPER             5                   13\n",
       "WILLIAMSON,LUCAS          5                   26\n",
       "HALL,TATE                 5                   18\n",
       "WELCH,TOM                 3                    6\n",
       "KRUTWIG,CAMERON           3                   20"
      ]
     },
     "execution_count": 16,
     "metadata": {},
     "output_type": "execute_result"
    }
   ],
   "source": [
    "HPM = pd.DataFrame(playerPM['H']).T[['pm','tmp']].rename(columns={'pm':'Plus-Minus','tmp':'Total Minutes Played'})\n",
    "HPM"
   ]
  },
  {
   "cell_type": "code",
   "execution_count": 17,
   "metadata": {},
   "outputs": [
    {
     "data": {
      "text/plain": [
       "<matplotlib.collections.PathCollection at 0x2439fa28198>"
      ]
     },
     "execution_count": 17,
     "metadata": {},
     "output_type": "execute_result"
    },
    {
     "data": {
      "image/png": "[encoded data removed]",
      "text/plain": [
       "<Figure size 432x288 with 1 Axes>"
      ]
     },
     "metadata": {
      "needs_background": "light"
     },
     "output_type": "display_data"
    }
   ],
   "source": [
    "plt.scatter(HPM['Total Minutes Played']\n",
    "            ,HPM['Plus-Minus']\n",
    "           )"
   ]
  },
  {
   "cell_type": "code",
   "execution_count": 18,
   "metadata": {},
   "outputs": [],
   "source": [
    "stints['chg'] = stints['diffEnd']-stints['diffStart']\n",
    "\n",
    "#stints['lA'] = stints['AOF'].apply(len)\n",
    "#stints['lH'] = stints['HOF'].apply(len)\n",
    "\n",
    "stints['pace'] = (stints['timeEnd']-stints['timeStart']).astype('timedelta64[s]')/(stints['seqEnd']-stints['seqStart'])\n",
    "stints['timeStart'] = pd.to_timedelta('00:40:00') - stints['timeStart']\n",
    "stints['timeEnd'] = pd.to_timedelta('00:40:00') - stints['timeEnd']\n",
    "#stints[['AOF','timeStart','timeEnd','seqStart','seqEnd','diffStart','diffEnd','chg','Y','pace']]"
   ]
  },
  {
   "cell_type": "code",
   "execution_count": 19,
   "metadata": {},
   "outputs": [
    {
     "data": {
      "text/plain": [
       "<matplotlib.collections.PathCollection at 0x2439fa81908>"
      ]
     },
     "execution_count": 19,
     "metadata": {},
     "output_type": "execute_result"
    },
    {
     "data": {
      "image/png": "[encoded data removed]",
      "text/plain": [
       "<Figure size 432x288 with 1 Axes>"
      ]
     },
     "metadata": {
      "needs_background": "light"
     },
     "output_type": "display_data"
    }
   ],
   "source": [
    "plt.scatter(stints['pace'],stints['Y'])"
   ]
  },
  {
   "cell_type": "code",
   "execution_count": 20,
   "metadata": {},
   "outputs": [],
   "source": [
    "#stints['AOF'] = stints['AOF'].apply(str)\n",
    "#TotalPM = stints[['AOF','chg']].copy().groupby('AOF').sum().reset_index()\n",
    "#TotalPM.sort_values(by='chg')"
   ]
  },
  {
   "cell_type": "code",
   "execution_count": 22,
   "metadata": {},
   "outputs": [],
   "source": [
    "L = stints[['AOF','seqStart','timeStart','timeEnd','chg']].copy().set_index(['seqStart','timeStart','timeEnd','chg']) \n",
    "fName = gameID.split('/')[0]\n",
    "L.explode('AOF').sort_values(by='chg').to_csv(fName+'.csv')"
   ]
  },
  {
   "cell_type": "markdown",
   "metadata": {},
   "source": [
    "# "
   ]
  }
 ],
 "metadata": {
  "kernelspec": {
   "display_name": "Python 3",
   "language": "python",
   "name": "python3"
  },
  "language_info": {
   "codemirror_mode": {
    "name": "ipython",
    "version": 3
   },
   "file_extension": ".py",
   "mimetype": "text/x-python",
   "name": "python",
   "nbconvert_exporter": "python",
   "pygments_lexer": "ipython3",
   "version": "3.7.3"
  }
 },
 "nbformat": 4,
 "nbformat_minor": 2
}
